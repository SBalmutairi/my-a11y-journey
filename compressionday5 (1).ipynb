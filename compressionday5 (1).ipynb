{
 "cells": [
  {
   "cell_type": "code",
   "execution_count": 15,
   "metadata": {
    "id": "Sn1QFZgGETjn"
   },
   "outputs": [],
   "source": [
    "#translation\n",
    "\n",
    "import binascii\n",
    "filename = 'sharedassets21.resource'\n",
    "with open(filename, 'rb') as f:\n",
    "    content = f.read()\n",
    "x = open(\"bluh.txt\", \"wb\")\n",
    "x.write(binascii.hexlify(content))\n",
    "x.close()"
   ]
  },
  {
   "cell_type": "code",
   "execution_count": null,
   "metadata": {
    "id": "YVy58-nfRh72"
   },
   "outputs": [],
   "source": [
    "#detranslation\n",
    "\n",
    "import codecs\n",
    "\n",
    "filenames = 'ins.txt'\n",
    "with open(filenames) as f:\n",
    "    hex_values = f.read()\n",
    "result_string = codecs.decode(hex_values, 'hex')\n",
    "\n",
    "f = open(\"deins.txt\", \"wb\")\n",
    "f.write(result_string)\n",
    "f.close()"
   ]
  },
  {
   "cell_type": "code",
   "execution_count": 153,
   "metadata": {
    "id": "BFMQ-pAavEnW"
   },
   "outputs": [],
   "source": [
    "import os\n",
    "\n",
    "\n",
    "namfile = \"temp3.txt\"\n",
    "inx= \"ins.txt\"\n",
    "nf = open(namfile, \"r+b\")\n",
    "v = ''\n",
    "z = 0\n",
    "y = 0\n",
    "y2 = 0\n",
    "with open(inx) as fin:\n",
    "    namins = fin.read()\n",
    "\n",
    "for i in namins:\n",
    "  size = os.path.getsize(namfile)  \n",
    "  if i == \"a\":\n",
    "    if v != '':\n",
    "      y = int(v) - 2\n",
    "      nf.seek(y)\n",
    "      z = nf.read(1)\n",
    "      y2 = int(v) - 1\n",
    "      nf.seek(y)\n",
    "      #print(nf.seek(y2))\n",
    "      nf.write(z)\n",
    "    v = ''\n",
    "  elif i == \"b\":\n",
    "    if v != '':\n",
    "      y = int(v) - 3\n",
    "      nf.seek(y)\n",
    "      z = nf.read(2)\n",
    "      y2 = int(v) - 1\n",
    "      #print(i)\n",
    "      #print(y2)\n",
    "      #print(v)\n",
    "      #print(y)\n",
    "      #print(z)\n",
    "      nf.seek(y2)  \n",
    "      nf.write(z)\n",
    "    v = ''\n",
    "  else:\n",
    "    v += str(i)\n",
    "\n",
    "nf.close()\n",
    "\n"
   ]
  },
  {
   "cell_type": "code",
   "execution_count": 151,
   "metadata": {
    "id": "z5jDPWPbaMB4"
   },
   "outputs": [],
   "source": [
    "#single and double detection and deletion\n",
    "\n",
    "import os\n",
    "\n",
    "def read_in_chunks(file_object, chunk_size=1024):\n",
    "    while True:\n",
    "        data = file_object.read(chunk_size)\n",
    "        if not data:\n",
    "            break\n",
    "        yield data\n",
    "\n",
    "#fname = \"simbluh2.txt\"\n",
    "#with open(fname) as fin:\n",
    "    #fin.seek(0)\n",
    "    #fdata = fin.read()\n",
    "\n",
    "s = 0\n",
    "d = 0\n",
    "x = 0\n",
    "y = ''\n",
    "x2 = 0\n",
    "dum = ''\n",
    "dumer = ''\n",
    "a = open(\"ins.txt\", \"w\")\n",
    "b = open(\"temp3.txt\", \"w\")\n",
    "#jor = open(\"SorD.txt\", \"w\")\n",
    "#jorvar = ''\n",
    "with open('simbluh2.txt') as f:\n",
    "    for piece in read_in_chunks(f):\n",
    "        s = 0\n",
    "        d = 0\n",
    "        y = ''\n",
    "        x2 = 0\n",
    "        dum = ''\n",
    "        dumer = ''\n",
    "        for i2 in piece:\n",
    "            if i2 == y:\n",
    "              s += 1\n",
    "            else:\n",
    "              y = i2\n",
    "\n",
    "        for i3 in piece:\n",
    "            x2 += 1\n",
    "            dum += str(i3)\n",
    "            if x2 > 1:\n",
    "              x2 = 0\n",
    "              if dum == dumer:\n",
    "                d += 2\n",
    "              else:\n",
    "                dumer = dum\n",
    "              dum = ''\n",
    "\n",
    "        y = ''\n",
    "        #jorvar = str(s) + \", \" + str(d) + \"//\"\n",
    "        #jor.write(jorvar)\n",
    "        if s >= d:\n",
    "          for i in piece:\n",
    "            x += 1\n",
    "            if i == y:\n",
    "              a.write(str(x) + \"a\")\n",
    "            else:\n",
    "              b.write(i)\n",
    "              y = i\n",
    "        else:\n",
    "          for i in piece:\n",
    "            x += 1\n",
    "            x2 += 1\n",
    "            dum += str(i)\n",
    "            if x2 > 1:\n",
    "              x2 = 0\n",
    "              if dum == dumer:\n",
    "                a.write(str(x - 1) + \"b\")\n",
    "              else:\n",
    "                b.write(dum)\n",
    "                dumer = dum\n",
    "              dum = ''\n",
    "\n",
    "a.close()\n",
    "b.close()\n",
    "\n",
    "\n",
    "#for i in piece:\n",
    "  #ita += 1\n",
    "  #x += 1\n",
    "  #if i == y:\n",
    "    #counter +=1\n",
    "    #a.write(str(x) + \"a\")\n",
    "  #else:\n",
    "    #b.write(i)\n",
    "    #y = i\n",
    "\n",
    "#os.remove(fname)\n",
    "#os.rename(\"temp.txt\", fname)\n",
    "\n",
    "\n",
    "#print(counter)\n",
    "#print(ita)\n",
    "#print('ratio:',(counter/ita) * 100, '%')"
   ]
  },
  {
   "cell_type": "code",
   "execution_count": 26,
   "metadata": {
    "colab": {
     "base_uri": "https://localhost:8080/"
    },
    "id": "jUqAGRZBCn7A",
    "outputId": "20caa4fa-0982-49db-ad2c-a4a62df2f126"
   },
   "outputs": [
    {
     "name": "stdout",
     "output_type": "stream",
     "text": [
      "hello\n"
     ]
    }
   ],
   "source": [
    "a = 'b'\n",
    "if a != '':\n",
    "  print(\"hello\")\n",
    "else:\n",
    "  print(\"hi\")"
   ]
  },
  {
   "cell_type": "code",
   "execution_count": 19,
   "metadata": {
    "id": "vZDLN-z5C8JK"
   },
   "outputs": [],
   "source": [
    "#creating sample of the first 100 chars\n",
    "\n",
    "fname = \"bluh.txt\"\n",
    "with open(fname) as fin:\n",
    "    fin.seek(0)\n",
    "    fdata = fin.read(2048 - 0)\n",
    "\n",
    "x = open(\"simbluh2.txt\", \"w\")\n",
    "x.write(fdata)\n",
    "x.close()"
   ]
  },
  {
   "cell_type": "code",
   "execution_count": null,
   "metadata": {
    "id": "7yu6thlkmOAG"
   },
   "outputs": [],
   "source": [
    "#double detection and deletion\n",
    "\n",
    "fname = \"simbluh2.txt\"\n",
    "with open(fname) as fin:\n",
    "    #fin.seek(0)\n",
    "    fdata = fin.read()\n",
    "x = 0\n",
    "x2 = 0\n",
    "dum = ''\n",
    "dumer = ''\n",
    "a2 = open(\"ins2.txt\", \"w\")\n",
    "b2 = open(\"temp2.txt\", \"w\")\n",
    "for i in fdata:\n",
    "  x += 1\n",
    "  x2 += 1\n",
    "  dum += str(i)\n",
    "  if x2 > 1:\n",
    "    x2 = 0\n",
    "    if dum == dumer:\n",
    "      a2.write(str(x - 1) + \"b\")\n",
    "      #print(x)\n",
    "    else:\n",
    "      b2.write(dum)\n",
    "      dumer = dum\n",
    "    dum = ''\n",
    "a2.close()\n",
    "b2.close()\n",
    "\n",
    "os.remove(fname)\n",
    "os.rename(\"temp2.txt\", fname)\n",
    "\n",
    "#print(counter)\n",
    "#print(ita)\n",
    "#print('ratio:',(counter/ita) * 100, '%')"
   ]
  },
  {
   "cell_type": "code",
   "execution_count": 19,
   "metadata": {
    "colab": {
     "base_uri": "https://localhost:8080/"
    },
    "id": "k-pAZP1iXr1S",
    "outputId": "e97a8069-2203-410d-c617-a7f7d5f81d05"
   },
   "outputs": [
    {
     "data": {
      "text/plain": [
       "False"
      ]
     },
     "execution_count": 19,
     "metadata": {},
     "output_type": "execute_result"
    }
   ],
   "source": [
    "#file comparison\n",
    "\n",
    "import filecmp\n",
    "filecmp.cmp('bluh.txt', 'temp.txt')"
   ]
  },
  {
   "cell_type": "code",
   "execution_count": null,
   "metadata": {
    "id": "QyMrVtygKOXl"
   },
   "outputs": [],
   "source": [
    "#cut file in chunks\n",
    "\n",
    "def read_in_chunks(file_object, chunk_size=1024):\n",
    "    while True:\n",
    "        data = file_object.read(chunk_size)\n",
    "        if not data:\n",
    "            break\n",
    "        yield data\n",
    "\n",
    "with open('bluh.txt') as f:\n",
    "    for piece in read_in_chunks(f):\n",
    "        print(\"hello\")"
   ]
  }
 ],
 "metadata": {
  "colab": {
   "provenance": []
  },
  "kernelspec": {
   "display_name": "Python 3 (ipykernel)",
   "language": "python",
   "name": "python3"
  },
  "language_info": {
   "codemirror_mode": {
    "name": "ipython",
    "version": 3
   },
   "file_extension": ".py",
   "mimetype": "text/x-python",
   "name": "python",
   "nbconvert_exporter": "python",
   "pygments_lexer": "ipython3",
   "version": "3.12.7"
  }
 },
 "nbformat": 4,
 "nbformat_minor": 4
}
